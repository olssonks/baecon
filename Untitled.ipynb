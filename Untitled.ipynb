{
 "cells": [
  {
   "cell_type": "markdown",
   "id": "237485ad-3270-41eb-9749-a88a990f1820",
   "metadata": {},
   "source": [
    "# Building an Experiment\n",
    "\n",
    "* Intro to structure of the experiment\n",
    "    * Devices\n",
    "        * Device distinction (scan vs acquisition)\n",
    "    * Engines\n",
    "        * Possible different ones\n",
    "    * Measurement Settings object\n",
    "    * Measurement Data object\n",
    "    \n",
    "* Flow of building an experiment from scratch\n",
    "\n",
    "* Kevin needs to make dummy devices: dummy signal genterator and dummy daq"
   ]
  },
  {
   "cell_type": "markdown",
   "id": "822dd100-b8cb-423e-92d3-d02f54e830e4",
   "metadata": {},
   "source": [
    "## Device configuration\n",
    "\n"
   ]
  },
  {
   "cell_type": "markdown",
   "id": "a323af7d-aa0e-478c-8b6b-680efdfbeb06",
   "metadata": {},
   "source": [
    "## Scan Configuration"
   ]
  },
  {
   "cell_type": "markdown",
   "id": "c3e89611-a616-4673-922a-82c4ccaf55f7",
   "metadata": {},
   "source": [
    "## Making Experiment Configuration (Measurements Settings call it Experiment_Recipe)"
   ]
  }
 ],
 "metadata": {
  "kernelspec": {
   "display_name": "Python 3 (ipykernel)",
   "language": "python",
   "name": "python3"
  },
  "language_info": {
   "codemirror_mode": {
    "name": "ipython",
    "version": 3
   },
   "file_extension": ".py",
   "mimetype": "text/x-python",
   "name": "python",
   "nbconvert_exporter": "python",
   "pygments_lexer": "ipython3",
   "version": "3.8.17"
  }
 },
 "nbformat": 4,
 "nbformat_minor": 5
}
